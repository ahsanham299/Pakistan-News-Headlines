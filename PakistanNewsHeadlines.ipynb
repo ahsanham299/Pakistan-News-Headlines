{
  "cells": [
    {
      "cell_type": "code",
      "execution_count": null,
      "id": "cc80aef4",
      "metadata": {
        "_cell_guid": "b1076dfc-b9ad-4769-8c92-a6c4dae69d19",
        "_uuid": "8f2839f25d086af736a60e9eeb907d3b93b6e0e5",
        "execution": {
          "iopub.execute_input": "2021-11-13T11:18:33.460576Z",
          "iopub.status.busy": "2021-11-13T11:18:33.459223Z",
          "iopub.status.idle": "2021-11-13T11:18:33.482394Z",
          "shell.execute_reply": "2021-11-13T11:18:33.482909Z",
          "shell.execute_reply.started": "2021-11-13T10:22:21.10999Z"
        },
        "papermill": {
          "duration": 0.049673,
          "end_time": "2021-11-13T11:18:33.483215",
          "exception": false,
          "start_time": "2021-11-13T11:18:33.433542",
          "status": "completed"
        },
        "tags": [],
        "id": "cc80aef4",
        "outputId": "f8709e20-cbba-4938-eb22-fb301d0b8673"
      },
      "outputs": [
        {
          "name": "stdout",
          "output_type": "stream",
          "text": [
            "/kaggle/input/pakistan-news-headlines/27k News Headlines 1 Jan 2020 - Mar 11 2021.xls\n",
            "/kaggle/input/pakistan-news-headlines/27k News Headlines 1 Jan 2020 - Mar 11 2021.csv\n"
          ]
        }
      ],
      "source": [
        "import numpy as np\n",
        "import pandas as pd\n",
        "import os\n",
        "for dirname, _, filenames in os.walk('/kaggle/input'):\n",
        "    for filename in filenames:\n",
        "        print(os.path.join(dirname, filename))\n",
        "\n"
      ]
    },
    {
      "cell_type": "code",
      "source": [
        ""
      ],
      "metadata": {
        "id": "Cqq6YmBHm2Zo"
      },
      "id": "Cqq6YmBHm2Zo",
      "execution_count": null,
      "outputs": []
    },
    {
      "cell_type": "code",
      "execution_count": null,
      "id": "c1e78c40",
      "metadata": {
        "execution": {
          "iopub.execute_input": "2021-11-13T11:18:33.532214Z",
          "iopub.status.busy": "2021-11-13T11:18:33.531542Z",
          "iopub.status.idle": "2021-11-13T11:18:34.595582Z",
          "shell.execute_reply": "2021-11-13T11:18:34.596127Z",
          "shell.execute_reply.started": "2021-11-13T10:22:21.142821Z"
        },
        "papermill": {
          "duration": 1.091357,
          "end_time": "2021-11-13T11:18:34.596311",
          "exception": false,
          "start_time": "2021-11-13T11:18:33.504954",
          "status": "completed"
        },
        "tags": [],
        "id": "c1e78c40"
      },
      "outputs": [],
      "source": [
        "import numpy as np\n",
        "import pandas as pd\n",
        "import seaborn as sns\n",
        "import matplotlib.pyplot as plt"
      ]
    },
    {
      "cell_type": "code",
      "execution_count": null,
      "id": "81c6eb6f",
      "metadata": {
        "execution": {
          "iopub.execute_input": "2021-11-13T11:18:34.643265Z",
          "iopub.status.busy": "2021-11-13T11:18:34.642530Z",
          "iopub.status.idle": "2021-11-13T11:18:34.866644Z",
          "shell.execute_reply": "2021-11-13T11:18:34.868157Z",
          "shell.execute_reply.started": "2021-11-13T10:22:52.465882Z"
        },
        "papermill": {
          "duration": 0.25172,
          "end_time": "2021-11-13T11:18:34.868384",
          "exception": false,
          "start_time": "2021-11-13T11:18:34.616664",
          "status": "completed"
        },
        "tags": [],
        "id": "81c6eb6f",
        "outputId": "b11fbdac-2a0b-4e1d-e3dc-a25b92f3e17d"
      },
      "outputs": [
        {
          "data": {
            "text/html": [
              "<div>\n",
              "<style scoped>\n",
              "    .dataframe tbody tr th:only-of-type {\n",
              "        vertical-align: middle;\n",
              "    }\n",
              "\n",
              "    .dataframe tbody tr th {\n",
              "        vertical-align: top;\n",
              "    }\n",
              "\n",
              "    .dataframe thead th {\n",
              "        text-align: right;\n",
              "    }\n",
              "</style>\n",
              "<table border=\"1\" class=\"dataframe\">\n",
              "  <thead>\n",
              "    <tr style=\"text-align: right;\">\n",
              "      <th></th>\n",
              "      <th>Story Heading</th>\n",
              "      <th>Story Excerpt</th>\n",
              "      <th>Timestamp</th>\n",
              "      <th>Section</th>\n",
              "    </tr>\n",
              "  </thead>\n",
              "  <tbody>\n",
              "    <tr>\n",
              "      <th>0</th>\n",
              "      <td>Federation of Pakistan v Gen Pervez Musharraf:...</td>\n",
              "      <td>After the special court's verdict in the high ...</td>\n",
              "      <td>01 Jan, 2020 09:55pm</td>\n",
              "      <td>NaN</td>\n",
              "    </tr>\n",
              "    <tr>\n",
              "      <th>1</th>\n",
              "      <td>Chinese national held for beating traffic poli...</td>\n",
              "      <td>The suspect assaulted the constable after he p...</td>\n",
              "      <td>01 Jan, 2020 08:35pm</td>\n",
              "      <td>Pakistan</td>\n",
              "    </tr>\n",
              "    <tr>\n",
              "      <th>2</th>\n",
              "      <td>Iraqi paramilitaries call for withdrawal from ...</td>\n",
              "      <td>Overnight, demonstrators pitched tents and cam...</td>\n",
              "      <td>01 Jan, 2020 07:26pm</td>\n",
              "      <td>World</td>\n",
              "    </tr>\n",
              "    <tr>\n",
              "      <th>3</th>\n",
              "      <td>Sarmad Khoosat reveals why Zindagi Tamasha's t...</td>\n",
              "      <td>We also have a release date.</td>\n",
              "      <td>02 Jan, 2020 01:17pm</td>\n",
              "      <td>Pakistan</td>\n",
              "    </tr>\n",
              "    <tr>\n",
              "      <th>4</th>\n",
              "      <td>PSL 2020 set to begin on February 20</td>\n",
              "      <td>Of the total 34 matches, 14 will take place in...</td>\n",
              "      <td>02 Jan, 2020 10:56am</td>\n",
              "      <td>Sport</td>\n",
              "    </tr>\n",
              "  </tbody>\n",
              "</table>\n",
              "</div>"
            ],
            "text/plain": [
              "                                       Story Heading  \\\n",
              "0  Federation of Pakistan v Gen Pervez Musharraf:...   \n",
              "1  Chinese national held for beating traffic poli...   \n",
              "2  Iraqi paramilitaries call for withdrawal from ...   \n",
              "3  Sarmad Khoosat reveals why Zindagi Tamasha's t...   \n",
              "4               PSL 2020 set to begin on February 20   \n",
              "\n",
              "                                       Story Excerpt             Timestamp  \\\n",
              "0  After the special court's verdict in the high ...  01 Jan, 2020 09:55pm   \n",
              "1  The suspect assaulted the constable after he p...  01 Jan, 2020 08:35pm   \n",
              "2  Overnight, demonstrators pitched tents and cam...  01 Jan, 2020 07:26pm   \n",
              "3                       We also have a release date.  02 Jan, 2020 01:17pm   \n",
              "4  Of the total 34 matches, 14 will take place in...  02 Jan, 2020 10:56am   \n",
              "\n",
              "    Section  \n",
              "0       NaN  \n",
              "1  Pakistan  \n",
              "2     World  \n",
              "3  Pakistan  \n",
              "4     Sport  "
            ]
          },
          "execution_count": 3,
          "metadata": {},
          "output_type": "execute_result"
        }
      ],
      "source": [
        "data_27kN = pd.read_csv('../input/pakistan-news-headlines/27k News Headlines 1 Jan 2020 - Mar 11 2021.csv')\n",
        "data_27kN.head()"
      ]
    },
    {
      "cell_type": "code",
      "execution_count": null,
      "id": "1613f8d3",
      "metadata": {
        "execution": {
          "iopub.execute_input": "2021-11-13T11:18:34.918092Z",
          "iopub.status.busy": "2021-11-13T11:18:34.917372Z",
          "iopub.status.idle": "2021-11-13T11:18:34.920190Z",
          "shell.execute_reply": "2021-11-13T11:18:34.920708Z",
          "shell.execute_reply.started": "2021-11-13T10:22:56.578944Z"
        },
        "papermill": {
          "duration": 0.030172,
          "end_time": "2021-11-13T11:18:34.920882",
          "exception": false,
          "start_time": "2021-11-13T11:18:34.890710",
          "status": "completed"
        },
        "tags": [],
        "id": "1613f8d3",
        "outputId": "cc6c8313-7f8c-4975-fd49-69dc5d68abc1"
      },
      "outputs": [
        {
          "data": {
            "text/plain": [
              "(26706, 4)"
            ]
          },
          "execution_count": 4,
          "metadata": {},
          "output_type": "execute_result"
        }
      ],
      "source": [
        "data_27kN.shape"
      ]
    },
    {
      "cell_type": "code",
      "execution_count": null,
      "id": "4c2ae750",
      "metadata": {
        "execution": {
          "iopub.execute_input": "2021-11-13T11:18:34.980540Z",
          "iopub.status.busy": "2021-11-13T11:18:34.966579Z",
          "iopub.status.idle": "2021-11-13T11:18:34.987278Z",
          "shell.execute_reply": "2021-11-13T11:18:34.987964Z",
          "shell.execute_reply.started": "2021-11-13T10:23:01.524684Z"
        },
        "papermill": {
          "duration": 0.046213,
          "end_time": "2021-11-13T11:18:34.988176",
          "exception": false,
          "start_time": "2021-11-13T11:18:34.941963",
          "status": "completed"
        },
        "tags": [],
        "id": "4c2ae750",
        "outputId": "783a9537-5057-40ca-c299-a7b2d0abd440"
      },
      "outputs": [
        {
          "data": {
            "text/plain": [
              "Story Heading    230\n",
              "Story Excerpt      0\n",
              "Timestamp         11\n",
              "Section           54\n",
              "dtype: int64"
            ]
          },
          "execution_count": 5,
          "metadata": {},
          "output_type": "execute_result"
        }
      ],
      "source": [
        "data_27kN.isna().sum()"
      ]
    },
    {
      "cell_type": "code",
      "execution_count": null,
      "id": "e57e6724",
      "metadata": {
        "execution": {
          "iopub.execute_input": "2021-11-13T11:18:35.036831Z",
          "iopub.status.busy": "2021-11-13T11:18:35.036084Z",
          "iopub.status.idle": "2021-11-13T11:18:35.059737Z",
          "shell.execute_reply": "2021-11-13T11:18:35.059057Z",
          "shell.execute_reply.started": "2021-11-13T10:25:43.448076Z"
        },
        "papermill": {
          "duration": 0.049165,
          "end_time": "2021-11-13T11:18:35.059882",
          "exception": false,
          "start_time": "2021-11-13T11:18:35.010717",
          "status": "completed"
        },
        "tags": [],
        "id": "e57e6724",
        "outputId": "f1e04d61-fb33-4d5d-a1aa-d20e07e04ca7"
      },
      "outputs": [
        {
          "data": {
            "text/html": [
              "<div>\n",
              "<style scoped>\n",
              "    .dataframe tbody tr th:only-of-type {\n",
              "        vertical-align: middle;\n",
              "    }\n",
              "\n",
              "    .dataframe tbody tr th {\n",
              "        vertical-align: top;\n",
              "    }\n",
              "\n",
              "    .dataframe thead th {\n",
              "        text-align: right;\n",
              "    }\n",
              "</style>\n",
              "<table border=\"1\" class=\"dataframe\">\n",
              "  <thead>\n",
              "    <tr style=\"text-align: right;\">\n",
              "      <th></th>\n",
              "      <th>Story Heading</th>\n",
              "      <th>Story Excerpt</th>\n",
              "      <th>Timestamp</th>\n",
              "      <th>Section</th>\n",
              "    </tr>\n",
              "  </thead>\n",
              "  <tbody>\n",
              "    <tr>\n",
              "      <th>2141</th>\n",
              "      <td>NaN</td>\n",
              "      <td>How your clothes become microfibre pollution i...</td>\n",
              "      <td>Most people don't realise it, but the majority...</td>\n",
              "      <td>01 Feb, 2020 05:43pm</td>\n",
              "    </tr>\n",
              "    <tr>\n",
              "      <th>2146</th>\n",
              "      <td>NaN</td>\n",
              "      <td>Govt stays firm on decision to not repatriate ...</td>\n",
              "      <td>Dr Zafar Mirza says Pakistani citizens strande...</td>\n",
              "      <td>02 Feb, 2020 07:54am</td>\n",
              "    </tr>\n",
              "    <tr>\n",
              "      <th>2201</th>\n",
              "      <td>NaN</td>\n",
              "      <td>PM Imran to depart on two-day visit to Malaysi...</td>\n",
              "      <td>This will be the premier's second visit to Mal...</td>\n",
              "      <td>02 Feb, 2020 06:48pm</td>\n",
              "    </tr>\n",
              "    <tr>\n",
              "      <th>2270</th>\n",
              "      <td>NaN</td>\n",
              "      <td>After intense debate, Senate rejects bill prop...</td>\n",
              "      <td>Bill sought to increase salaries of parliament...</td>\n",
              "      <td>03 Feb, 2020 08:38pm</td>\n",
              "    </tr>\n",
              "    <tr>\n",
              "      <th>2347</th>\n",
              "      <td>NaN</td>\n",
              "      <td>Body of FIA driver found hanging from tree in ...</td>\n",
              "      <td>Police say they are probing the death from the...</td>\n",
              "      <td>04 Feb, 2020 05:22pm</td>\n",
              "    </tr>\n",
              "    <tr>\n",
              "      <th>...</th>\n",
              "      <td>...</td>\n",
              "      <td>...</td>\n",
              "      <td>...</td>\n",
              "      <td>...</td>\n",
              "    </tr>\n",
              "    <tr>\n",
              "      <th>26453</th>\n",
              "      <td>NaN</td>\n",
              "      <td>Twitter is getting desi saas-bahu vibes from H...</td>\n",
              "      <td>Social media is full of jokes about the now in...</td>\n",
              "      <td>09 Mar, 2021 04:28pm</td>\n",
              "    </tr>\n",
              "    <tr>\n",
              "      <th>26465</th>\n",
              "      <td>NaN</td>\n",
              "      <td>Nabila has opened a ‘factory’ for men</td>\n",
              "      <td>Factory Barbers will be the affordable alterna...</td>\n",
              "      <td>09 Mar, 2021 12:18pm</td>\n",
              "    </tr>\n",
              "    <tr>\n",
              "      <th>26470</th>\n",
              "      <td>NaN</td>\n",
              "      <td>Malala partners with Apple to produce dramas, ...</td>\n",
              "      <td>She hopes that young people, especially girls,...</td>\n",
              "      <td>09 Mar, 2021 10:32am</td>\n",
              "    </tr>\n",
              "    <tr>\n",
              "      <th>26649</th>\n",
              "      <td>NaN</td>\n",
              "      <td>Amitabh Bachchan and Deepika Padukone to reuni...</td>\n",
              "      <td>Not much is known about the movie, including i...</td>\n",
              "      <td>11 Mar, 2021 07:02am</td>\n",
              "    </tr>\n",
              "    <tr>\n",
              "      <th>26658</th>\n",
              "      <td>NaN</td>\n",
              "      <td>Go healthy and bake your own malted onion bread</td>\n",
              "      <td>It's a tasty and nutritious delight!</td>\n",
              "      <td>11 Mar, 2021 07:02am</td>\n",
              "    </tr>\n",
              "  </tbody>\n",
              "</table>\n",
              "<p>230 rows × 4 columns</p>\n",
              "</div>"
            ],
            "text/plain": [
              "      Story Heading                                      Story Excerpt  \\\n",
              "2141            NaN  How your clothes become microfibre pollution i...   \n",
              "2146            NaN  Govt stays firm on decision to not repatriate ...   \n",
              "2201            NaN  PM Imran to depart on two-day visit to Malaysi...   \n",
              "2270            NaN  After intense debate, Senate rejects bill prop...   \n",
              "2347            NaN  Body of FIA driver found hanging from tree in ...   \n",
              "...             ...                                                ...   \n",
              "26453           NaN  Twitter is getting desi saas-bahu vibes from H...   \n",
              "26465           NaN              Nabila has opened a ‘factory’ for men   \n",
              "26470           NaN  Malala partners with Apple to produce dramas, ...   \n",
              "26649           NaN  Amitabh Bachchan and Deepika Padukone to reuni...   \n",
              "26658           NaN    Go healthy and bake your own malted onion bread   \n",
              "\n",
              "                                               Timestamp               Section  \n",
              "2141   Most people don't realise it, but the majority...  01 Feb, 2020 05:43pm  \n",
              "2146   Dr Zafar Mirza says Pakistani citizens strande...  02 Feb, 2020 07:54am  \n",
              "2201   This will be the premier's second visit to Mal...  02 Feb, 2020 06:48pm  \n",
              "2270   Bill sought to increase salaries of parliament...  03 Feb, 2020 08:38pm  \n",
              "2347   Police say they are probing the death from the...  04 Feb, 2020 05:22pm  \n",
              "...                                                  ...                   ...  \n",
              "26453  Social media is full of jokes about the now in...  09 Mar, 2021 04:28pm  \n",
              "26465  Factory Barbers will be the affordable alterna...  09 Mar, 2021 12:18pm  \n",
              "26470  She hopes that young people, especially girls,...  09 Mar, 2021 10:32am  \n",
              "26649  Not much is known about the movie, including i...  11 Mar, 2021 07:02am  \n",
              "26658               It's a tasty and nutritious delight!  11 Mar, 2021 07:02am  \n",
              "\n",
              "[230 rows x 4 columns]"
            ]
          },
          "execution_count": 6,
          "metadata": {},
          "output_type": "execute_result"
        }
      ],
      "source": [
        "data_27kN[data_27kN['Story Heading'].isna()]"
      ]
    },
    {
      "cell_type": "code",
      "execution_count": null,
      "id": "c5380dfc",
      "metadata": {
        "execution": {
          "iopub.execute_input": "2021-11-13T11:18:35.121366Z",
          "iopub.status.busy": "2021-11-13T11:18:35.120652Z",
          "iopub.status.idle": "2021-11-13T11:18:35.127730Z",
          "shell.execute_reply": "2021-11-13T11:18:35.128233Z",
          "shell.execute_reply.started": "2021-11-13T10:51:06.28952Z"
        },
        "papermill": {
          "duration": 0.046352,
          "end_time": "2021-11-13T11:18:35.128448",
          "exception": false,
          "start_time": "2021-11-13T11:18:35.082096",
          "status": "completed"
        },
        "tags": [],
        "id": "c5380dfc"
      },
      "outputs": [],
      "source": [
        "data_27kN2=data_27kN.dropna()"
      ]
    },
    {
      "cell_type": "code",
      "execution_count": null,
      "id": "d8ab39dc",
      "metadata": {
        "execution": {
          "iopub.execute_input": "2021-11-13T11:18:35.177519Z",
          "iopub.status.busy": "2021-11-13T11:18:35.176795Z",
          "iopub.status.idle": "2021-11-13T11:18:35.196483Z",
          "shell.execute_reply": "2021-11-13T11:18:35.197580Z",
          "shell.execute_reply.started": "2021-11-13T10:51:09.329351Z"
        },
        "papermill": {
          "duration": 0.046323,
          "end_time": "2021-11-13T11:18:35.197841",
          "exception": false,
          "start_time": "2021-11-13T11:18:35.151518",
          "status": "completed"
        },
        "tags": [],
        "id": "d8ab39dc",
        "outputId": "06eb65d3-d4d4-4a31-c053-9ad754f36e67"
      },
      "outputs": [
        {
          "data": {
            "text/plain": [
              "Story Heading    0\n",
              "Story Excerpt    0\n",
              "Timestamp        0\n",
              "Section          0\n",
              "dtype: int64"
            ]
          },
          "execution_count": 8,
          "metadata": {},
          "output_type": "execute_result"
        }
      ],
      "source": [
        "data_27kN2.isna().sum()"
      ]
    },
    {
      "cell_type": "code",
      "execution_count": null,
      "id": "061d6f90",
      "metadata": {
        "execution": {
          "iopub.execute_input": "2021-11-13T11:18:35.249668Z",
          "iopub.status.busy": "2021-11-13T11:18:35.248973Z",
          "iopub.status.idle": "2021-11-13T11:18:35.261881Z",
          "shell.execute_reply": "2021-11-13T11:18:35.262374Z",
          "shell.execute_reply.started": "2021-11-13T10:51:11.166252Z"
        },
        "papermill": {
          "duration": 0.040224,
          "end_time": "2021-11-13T11:18:35.262566",
          "exception": false,
          "start_time": "2021-11-13T11:18:35.222342",
          "status": "completed"
        },
        "tags": [],
        "id": "061d6f90",
        "outputId": "c8cfc2e8-d3da-47c0-fd27-6b3194668f0b"
      },
      "outputs": [
        {
          "data": {
            "text/html": [
              "<div>\n",
              "<style scoped>\n",
              "    .dataframe tbody tr th:only-of-type {\n",
              "        vertical-align: middle;\n",
              "    }\n",
              "\n",
              "    .dataframe tbody tr th {\n",
              "        vertical-align: top;\n",
              "    }\n",
              "\n",
              "    .dataframe thead th {\n",
              "        text-align: right;\n",
              "    }\n",
              "</style>\n",
              "<table border=\"1\" class=\"dataframe\">\n",
              "  <thead>\n",
              "    <tr style=\"text-align: right;\">\n",
              "      <th></th>\n",
              "      <th>Story Heading</th>\n",
              "      <th>Story Excerpt</th>\n",
              "      <th>Timestamp</th>\n",
              "      <th>Section</th>\n",
              "    </tr>\n",
              "  </thead>\n",
              "  <tbody>\n",
              "    <tr>\n",
              "      <th>1</th>\n",
              "      <td>Chinese national held for beating traffic poli...</td>\n",
              "      <td>The suspect assaulted the constable after he p...</td>\n",
              "      <td>01 Jan, 2020 08:35pm</td>\n",
              "      <td>Pakistan</td>\n",
              "    </tr>\n",
              "    <tr>\n",
              "      <th>2</th>\n",
              "      <td>Iraqi paramilitaries call for withdrawal from ...</td>\n",
              "      <td>Overnight, demonstrators pitched tents and cam...</td>\n",
              "      <td>01 Jan, 2020 07:26pm</td>\n",
              "      <td>World</td>\n",
              "    </tr>\n",
              "    <tr>\n",
              "      <th>3</th>\n",
              "      <td>Sarmad Khoosat reveals why Zindagi Tamasha's t...</td>\n",
              "      <td>We also have a release date.</td>\n",
              "      <td>02 Jan, 2020 01:17pm</td>\n",
              "      <td>Pakistan</td>\n",
              "    </tr>\n",
              "    <tr>\n",
              "      <th>4</th>\n",
              "      <td>PSL 2020 set to begin on February 20</td>\n",
              "      <td>Of the total 34 matches, 14 will take place in...</td>\n",
              "      <td>02 Jan, 2020 10:56am</td>\n",
              "      <td>Sport</td>\n",
              "    </tr>\n",
              "    <tr>\n",
              "      <th>5</th>\n",
              "      <td>Despite extreme differences, Centre willing to...</td>\n",
              "      <td>Says meeting on Centre's projects in Karachi f...</td>\n",
              "      <td>01 Jan, 2020 03:27pm</td>\n",
              "      <td>Pakistan</td>\n",
              "    </tr>\n",
              "    <tr>\n",
              "      <th>...</th>\n",
              "      <td>...</td>\n",
              "      <td>...</td>\n",
              "      <td>...</td>\n",
              "      <td>...</td>\n",
              "    </tr>\n",
              "    <tr>\n",
              "      <th>26701</th>\n",
              "      <td>Newspaper</td>\n",
              "      <td>Pakistan welcomes renewed US push for Afghan p...</td>\n",
              "      <td>“We welcome the US efforts to re-energise the ...</td>\n",
              "      <td>11 Mar, 2021 07:02am</td>\n",
              "    </tr>\n",
              "    <tr>\n",
              "      <th>26702</th>\n",
              "      <td>Newspaper</td>\n",
              "      <td>Myanmar junta spurns UN appeal,  kills more pr...</td>\n",
              "      <td>The military has also lodged a new allegation ...</td>\n",
              "      <td>11 Mar, 2021 07:02am</td>\n",
              "    </tr>\n",
              "    <tr>\n",
              "      <th>26703</th>\n",
              "      <td>Newspaper</td>\n",
              "      <td>Remittances jump by 24pc to $18.7bn in 8MFY21</td>\n",
              "      <td>If June FY20 is also counted, it is the ninth ...</td>\n",
              "      <td>11 Mar, 2021 07:02am</td>\n",
              "    </tr>\n",
              "    <tr>\n",
              "      <th>26704</th>\n",
              "      <td>Pakistan</td>\n",
              "      <td>Pakistan blocks TikTok after ban by PHC</td>\n",
              "      <td>Company running app say it is maintaining a sa...</td>\n",
              "      <td>11 Mar, 2021 07:02am</td>\n",
              "    </tr>\n",
              "    <tr>\n",
              "      <th>26705</th>\n",
              "      <td>Newspaper</td>\n",
              "      <td>Govt gets cleared Nepra bill to revive IMF pro...</td>\n",
              "      <td>Under the bill, the govt has secured powers to...</td>\n",
              "      <td>11 Mar, 2021 07:02am</td>\n",
              "    </tr>\n",
              "  </tbody>\n",
              "</table>\n",
              "<p>26413 rows × 4 columns</p>\n",
              "</div>"
            ],
            "text/plain": [
              "                                           Story Heading  \\\n",
              "1      Chinese national held for beating traffic poli...   \n",
              "2      Iraqi paramilitaries call for withdrawal from ...   \n",
              "3      Sarmad Khoosat reveals why Zindagi Tamasha's t...   \n",
              "4                   PSL 2020 set to begin on February 20   \n",
              "5      Despite extreme differences, Centre willing to...   \n",
              "...                                                  ...   \n",
              "26701                                          Newspaper   \n",
              "26702                                          Newspaper   \n",
              "26703                                          Newspaper   \n",
              "26704                                           Pakistan   \n",
              "26705                                          Newspaper   \n",
              "\n",
              "                                           Story Excerpt  \\\n",
              "1      The suspect assaulted the constable after he p...   \n",
              "2      Overnight, demonstrators pitched tents and cam...   \n",
              "3                           We also have a release date.   \n",
              "4      Of the total 34 matches, 14 will take place in...   \n",
              "5      Says meeting on Centre's projects in Karachi f...   \n",
              "...                                                  ...   \n",
              "26701  Pakistan welcomes renewed US push for Afghan p...   \n",
              "26702  Myanmar junta spurns UN appeal,  kills more pr...   \n",
              "26703      Remittances jump by 24pc to $18.7bn in 8MFY21   \n",
              "26704            Pakistan blocks TikTok after ban by PHC   \n",
              "26705  Govt gets cleared Nepra bill to revive IMF pro...   \n",
              "\n",
              "                                               Timestamp               Section  \n",
              "1                                   01 Jan, 2020 08:35pm              Pakistan  \n",
              "2                                   01 Jan, 2020 07:26pm                 World  \n",
              "3                                   02 Jan, 2020 01:17pm              Pakistan  \n",
              "4                                   02 Jan, 2020 10:56am                 Sport  \n",
              "5                                   01 Jan, 2020 03:27pm              Pakistan  \n",
              "...                                                  ...                   ...  \n",
              "26701  “We welcome the US efforts to re-energise the ...  11 Mar, 2021 07:02am  \n",
              "26702  The military has also lodged a new allegation ...  11 Mar, 2021 07:02am  \n",
              "26703  If June FY20 is also counted, it is the ninth ...  11 Mar, 2021 07:02am  \n",
              "26704  Company running app say it is maintaining a sa...  11 Mar, 2021 07:02am  \n",
              "26705  Under the bill, the govt has secured powers to...  11 Mar, 2021 07:02am  \n",
              "\n",
              "[26413 rows x 4 columns]"
            ]
          },
          "execution_count": 9,
          "metadata": {},
          "output_type": "execute_result"
        }
      ],
      "source": [
        "data_27kN2"
      ]
    },
    {
      "cell_type": "code",
      "execution_count": null,
      "id": "ae273705",
      "metadata": {
        "execution": {
          "iopub.execute_input": "2021-11-13T11:18:35.313152Z",
          "iopub.status.busy": "2021-11-13T11:18:35.312484Z",
          "iopub.status.idle": "2021-11-13T11:18:35.345290Z",
          "shell.execute_reply": "2021-11-13T11:18:35.346077Z",
          "shell.execute_reply.started": "2021-11-13T10:28:46.334034Z"
        },
        "papermill": {
          "duration": 0.060035,
          "end_time": "2021-11-13T11:18:35.346309",
          "exception": false,
          "start_time": "2021-11-13T11:18:35.286274",
          "status": "completed"
        },
        "tags": [],
        "id": "ae273705",
        "outputId": "f0eca743-3852-4830-ec8e-ab32e1050ed0"
      },
      "outputs": [
        {
          "name": "stdout",
          "output_type": "stream",
          "text": [
            "<class 'pandas.core.frame.DataFrame'>\n",
            "Int64Index: 26413 entries, 1 to 26705\n",
            "Data columns (total 4 columns):\n",
            " #   Column         Non-Null Count  Dtype \n",
            "---  ------         --------------  ----- \n",
            " 0   Story Heading  26413 non-null  object\n",
            " 1   Story Excerpt  26413 non-null  object\n",
            " 2   Timestamp      26413 non-null  object\n",
            " 3   Section        26413 non-null  object\n",
            "dtypes: object(4)\n",
            "memory usage: 1.0+ MB\n"
          ]
        }
      ],
      "source": [
        "data_27kN2.info()"
      ]
    },
    {
      "cell_type": "code",
      "execution_count": null,
      "id": "f472be4a",
      "metadata": {
        "execution": {
          "iopub.execute_input": "2021-11-13T11:18:35.410735Z",
          "iopub.status.busy": "2021-11-13T11:18:35.409997Z",
          "iopub.status.idle": "2021-11-13T11:18:35.496689Z",
          "shell.execute_reply": "2021-11-13T11:18:35.496123Z",
          "shell.execute_reply.started": "2021-11-13T10:28:49.951378Z"
        },
        "papermill": {
          "duration": 0.125278,
          "end_time": "2021-11-13T11:18:35.496845",
          "exception": false,
          "start_time": "2021-11-13T11:18:35.371567",
          "status": "completed"
        },
        "tags": [],
        "id": "f472be4a",
        "outputId": "c2549d04-02e5-422f-9db1-3c8e1703a08f"
      },
      "outputs": [
        {
          "data": {
            "text/html": [
              "<div>\n",
              "<style scoped>\n",
              "    .dataframe tbody tr th:only-of-type {\n",
              "        vertical-align: middle;\n",
              "    }\n",
              "\n",
              "    .dataframe tbody tr th {\n",
              "        vertical-align: top;\n",
              "    }\n",
              "\n",
              "    .dataframe thead th {\n",
              "        text-align: right;\n",
              "    }\n",
              "</style>\n",
              "<table border=\"1\" class=\"dataframe\">\n",
              "  <thead>\n",
              "    <tr style=\"text-align: right;\">\n",
              "      <th></th>\n",
              "      <th>Story Heading</th>\n",
              "      <th>Story Excerpt</th>\n",
              "      <th>Timestamp</th>\n",
              "      <th>Section</th>\n",
              "    </tr>\n",
              "  </thead>\n",
              "  <tbody>\n",
              "    <tr>\n",
              "      <th>count</th>\n",
              "      <td>26413</td>\n",
              "      <td>26413</td>\n",
              "      <td>26413</td>\n",
              "      <td>26413</td>\n",
              "    </tr>\n",
              "    <tr>\n",
              "      <th>unique</th>\n",
              "      <td>2077</td>\n",
              "      <td>26086</td>\n",
              "      <td>26166</td>\n",
              "      <td>22266</td>\n",
              "    </tr>\n",
              "    <tr>\n",
              "      <th>top</th>\n",
              "      <td>Pakistan</td>\n",
              "      <td>Mailbox</td>\n",
              "      <td>18 Jan, 2020 06:58am</td>\n",
              "      <td>Pakistan</td>\n",
              "    </tr>\n",
              "    <tr>\n",
              "      <th>freq</th>\n",
              "      <td>11930</td>\n",
              "      <td>59</td>\n",
              "      <td>13</td>\n",
              "      <td>963</td>\n",
              "    </tr>\n",
              "  </tbody>\n",
              "</table>\n",
              "</div>"
            ],
            "text/plain": [
              "       Story Heading Story Excerpt             Timestamp   Section\n",
              "count          26413         26413                 26413     26413\n",
              "unique          2077         26086                 26166     22266\n",
              "top         Pakistan       Mailbox  18 Jan, 2020 06:58am  Pakistan\n",
              "freq           11930            59                    13       963"
            ]
          },
          "execution_count": 11,
          "metadata": {},
          "output_type": "execute_result"
        }
      ],
      "source": [
        "data_27kN2.describe()"
      ]
    },
    {
      "cell_type": "code",
      "execution_count": null,
      "id": "f6fdeefa",
      "metadata": {
        "execution": {
          "iopub.execute_input": "2021-11-13T11:18:35.549142Z",
          "iopub.status.busy": "2021-11-13T11:18:35.548469Z",
          "iopub.status.idle": "2021-11-13T11:18:35.559847Z",
          "shell.execute_reply": "2021-11-13T11:18:35.559107Z",
          "shell.execute_reply.started": "2021-11-13T10:54:58.507314Z"
        },
        "papermill": {
          "duration": 0.039234,
          "end_time": "2021-11-13T11:18:35.559997",
          "exception": false,
          "start_time": "2021-11-13T11:18:35.520763",
          "status": "completed"
        },
        "tags": [],
        "id": "f6fdeefa",
        "outputId": "67735dc5-111c-4e2d-86c1-2954b6d69226"
      },
      "outputs": [
        {
          "data": {
            "text/plain": [
              "array(['Pakistan', 'World', 'Sport', ..., '09 Mar, 2021 07:02am',\n",
              "       '10 Mar, 2021 07:02am', '11 Mar, 2021 07:02am'], dtype=object)"
            ]
          },
          "execution_count": 12,
          "metadata": {},
          "output_type": "execute_result"
        }
      ],
      "source": [
        "gb=data_27kN2.Section.unique()\n",
        "gb"
      ]
    },
    {
      "cell_type": "code",
      "execution_count": null,
      "id": "b8079a1e",
      "metadata": {
        "execution": {
          "iopub.execute_input": "2021-11-13T11:18:35.691229Z",
          "iopub.status.busy": "2021-11-13T11:18:35.680618Z",
          "iopub.status.idle": "2021-11-13T11:18:35.696685Z",
          "shell.execute_reply": "2021-11-13T11:18:35.696071Z",
          "shell.execute_reply.started": "2021-11-13T10:52:20.820128Z"
        },
        "papermill": {
          "duration": 0.109592,
          "end_time": "2021-11-13T11:18:35.696838",
          "exception": false,
          "start_time": "2021-11-13T11:18:35.587246",
          "status": "completed"
        },
        "tags": [],
        "id": "b8079a1e",
        "outputId": "7c82e626-27ab-4543-c385-578349d0ff76"
      },
      "outputs": [
        {
          "data": {
            "text/html": [
              "<div>\n",
              "<style scoped>\n",
              "    .dataframe tbody tr th:only-of-type {\n",
              "        vertical-align: middle;\n",
              "    }\n",
              "\n",
              "    .dataframe tbody tr th {\n",
              "        vertical-align: top;\n",
              "    }\n",
              "\n",
              "    .dataframe thead th {\n",
              "        text-align: right;\n",
              "    }\n",
              "</style>\n",
              "<table border=\"1\" class=\"dataframe\">\n",
              "  <thead>\n",
              "    <tr style=\"text-align: right;\">\n",
              "      <th></th>\n",
              "      <th>Story Heading</th>\n",
              "      <th>Story Excerpt</th>\n",
              "      <th>Timestamp</th>\n",
              "      <th>Section</th>\n",
              "    </tr>\n",
              "  </thead>\n",
              "  <tbody>\n",
              "    <tr>\n",
              "      <th>1</th>\n",
              "      <td>Chinese national held for beating traffic poli...</td>\n",
              "      <td>The suspect assaulted the constable after he p...</td>\n",
              "      <td>01 Jan, 2020 08:35pm</td>\n",
              "      <td>Pakistan</td>\n",
              "    </tr>\n",
              "    <tr>\n",
              "      <th>2</th>\n",
              "      <td>Iraqi paramilitaries call for withdrawal from ...</td>\n",
              "      <td>Overnight, demonstrators pitched tents and cam...</td>\n",
              "      <td>01 Jan, 2020 07:26pm</td>\n",
              "      <td>World</td>\n",
              "    </tr>\n",
              "    <tr>\n",
              "      <th>3</th>\n",
              "      <td>Sarmad Khoosat reveals why Zindagi Tamasha's t...</td>\n",
              "      <td>We also have a release date.</td>\n",
              "      <td>02 Jan, 2020 01:17pm</td>\n",
              "      <td>Pakistan</td>\n",
              "    </tr>\n",
              "    <tr>\n",
              "      <th>4</th>\n",
              "      <td>PSL 2020 set to begin on February 20</td>\n",
              "      <td>Of the total 34 matches, 14 will take place in...</td>\n",
              "      <td>02 Jan, 2020 10:56am</td>\n",
              "      <td>Sport</td>\n",
              "    </tr>\n",
              "    <tr>\n",
              "      <th>5</th>\n",
              "      <td>Despite extreme differences, Centre willing to...</td>\n",
              "      <td>Says meeting on Centre's projects in Karachi f...</td>\n",
              "      <td>01 Jan, 2020 03:27pm</td>\n",
              "      <td>Pakistan</td>\n",
              "    </tr>\n",
              "    <tr>\n",
              "      <th>...</th>\n",
              "      <td>...</td>\n",
              "      <td>...</td>\n",
              "      <td>...</td>\n",
              "      <td>...</td>\n",
              "    </tr>\n",
              "    <tr>\n",
              "      <th>2129</th>\n",
              "      <td>PAC body casts doubt on removal of 800,000 fro...</td>\n",
              "      <td>Out of over 800,000 beneficiaries removed from...</td>\n",
              "      <td>31 Jan, 2020 08:04am</td>\n",
              "      <td>Pakistan</td>\n",
              "    </tr>\n",
              "    <tr>\n",
              "      <th>2130</th>\n",
              "      <td>Iran envoy urges ways to bypass US sanctions</td>\n",
              "      <td>Iranian Ambassador Seyyed Mohammed Ali Hossein...</td>\n",
              "      <td>31 Jan, 2020 07:50am</td>\n",
              "      <td>Pakistan</td>\n",
              "    </tr>\n",
              "    <tr>\n",
              "      <th>2131</th>\n",
              "      <td>FO rejects rumours govt planning AJK-Pakistan ...</td>\n",
              "      <td>“There is no such proposal under consideration...</td>\n",
              "      <td>31 Jan, 2020 07:01am</td>\n",
              "      <td>Newspaper</td>\n",
              "    </tr>\n",
              "    <tr>\n",
              "      <th>2132</th>\n",
              "      <td>Minister sounds alarm in NA over locust threat</td>\n",
              "      <td>Opposition stages walkout over govt move to ex...</td>\n",
              "      <td>31 Jan, 2020 07:54am</td>\n",
              "      <td>Pakistan</td>\n",
              "    </tr>\n",
              "    <tr>\n",
              "      <th>2133</th>\n",
              "      <td>Uncertainty hits FBR as Shabbar proceeds on le...</td>\n",
              "      <td>FBR chairman Shabbar Zaidi had resumed his off...</td>\n",
              "      <td>31 Jan, 2020 07:23am</td>\n",
              "      <td>Newspaper</td>\n",
              "    </tr>\n",
              "  </tbody>\n",
              "</table>\n",
              "<p>2080 rows × 4 columns</p>\n",
              "</div>"
            ],
            "text/plain": [
              "                                          Story Heading  \\\n",
              "1     Chinese national held for beating traffic poli...   \n",
              "2     Iraqi paramilitaries call for withdrawal from ...   \n",
              "3     Sarmad Khoosat reveals why Zindagi Tamasha's t...   \n",
              "4                  PSL 2020 set to begin on February 20   \n",
              "5     Despite extreme differences, Centre willing to...   \n",
              "...                                                 ...   \n",
              "2129  PAC body casts doubt on removal of 800,000 fro...   \n",
              "2130       Iran envoy urges ways to bypass US sanctions   \n",
              "2131  FO rejects rumours govt planning AJK-Pakistan ...   \n",
              "2132     Minister sounds alarm in NA over locust threat   \n",
              "2133  Uncertainty hits FBR as Shabbar proceeds on le...   \n",
              "\n",
              "                                          Story Excerpt             Timestamp  \\\n",
              "1     The suspect assaulted the constable after he p...  01 Jan, 2020 08:35pm   \n",
              "2     Overnight, demonstrators pitched tents and cam...  01 Jan, 2020 07:26pm   \n",
              "3                          We also have a release date.  02 Jan, 2020 01:17pm   \n",
              "4     Of the total 34 matches, 14 will take place in...  02 Jan, 2020 10:56am   \n",
              "5     Says meeting on Centre's projects in Karachi f...  01 Jan, 2020 03:27pm   \n",
              "...                                                 ...                   ...   \n",
              "2129  Out of over 800,000 beneficiaries removed from...  31 Jan, 2020 08:04am   \n",
              "2130  Iranian Ambassador Seyyed Mohammed Ali Hossein...  31 Jan, 2020 07:50am   \n",
              "2131  “There is no such proposal under consideration...  31 Jan, 2020 07:01am   \n",
              "2132  Opposition stages walkout over govt move to ex...  31 Jan, 2020 07:54am   \n",
              "2133  FBR chairman Shabbar Zaidi had resumed his off...  31 Jan, 2020 07:23am   \n",
              "\n",
              "        Section  \n",
              "1      Pakistan  \n",
              "2         World  \n",
              "3      Pakistan  \n",
              "4         Sport  \n",
              "5      Pakistan  \n",
              "...         ...  \n",
              "2129   Pakistan  \n",
              "2130   Pakistan  \n",
              "2131  Newspaper  \n",
              "2132   Pakistan  \n",
              "2133  Newspaper  \n",
              "\n",
              "[2080 rows x 4 columns]"
            ]
          },
          "execution_count": 13,
          "metadata": {},
          "output_type": "execute_result"
        }
      ],
      "source": [
        "data_27kN3=data_27kN2[(data_27kN2.Section=='Pakistan')|(data_27kN2.Section=='Sport')\n",
        "                      | (data_27kN2.Section=='World')|(data_27kN2.Section=='Business')\n",
        "                      | (data_27kN2.Section=='Sp Supplements')|(data_27kN2.Section=='Newspaper')\n",
        "                      | (data_27kN2.Section=='Magazines')|(data_27kN2.Section=='Sport')\n",
        "                      | (data_27kN2.Section=='Prism')|(data_27kN2.Section=='Tech')\n",
        "                      | (data_27kN2.Section=='Multimedia') | (data_27kN2.Section=='Coronavirus')\n",
        "                      | (data_27kN2.Section=='US Elections')]\n",
        "data_27kN3"
      ]
    },
    {
      "cell_type": "code",
      "execution_count": null,
      "id": "5555c50a",
      "metadata": {
        "execution": {
          "iopub.execute_input": "2021-11-13T11:18:35.752999Z",
          "iopub.status.busy": "2021-11-13T11:18:35.751997Z",
          "iopub.status.idle": "2021-11-13T11:18:35.828984Z",
          "shell.execute_reply": "2021-11-13T11:18:35.829511Z",
          "shell.execute_reply.started": "2021-11-13T10:52:23.774917Z"
        },
        "papermill": {
          "duration": 0.107739,
          "end_time": "2021-11-13T11:18:35.829689",
          "exception": false,
          "start_time": "2021-11-13T11:18:35.721950",
          "status": "completed"
        },
        "tags": [],
        "id": "5555c50a",
        "outputId": "046bd36a-9f10-4436-bb83-6ec4f6556fda"
      },
      "outputs": [
        {
          "data": {
            "text/html": [
              "<div>\n",
              "<style scoped>\n",
              "    .dataframe tbody tr th:only-of-type {\n",
              "        vertical-align: middle;\n",
              "    }\n",
              "\n",
              "    .dataframe tbody tr th {\n",
              "        vertical-align: top;\n",
              "    }\n",
              "\n",
              "    .dataframe thead th {\n",
              "        text-align: right;\n",
              "    }\n",
              "</style>\n",
              "<table border=\"1\" class=\"dataframe\">\n",
              "  <thead>\n",
              "    <tr style=\"text-align: right;\">\n",
              "      <th></th>\n",
              "      <th>Story Heading</th>\n",
              "      <th>Story Excerpt</th>\n",
              "      <th>Timestamp</th>\n",
              "      <th>Section</th>\n",
              "    </tr>\n",
              "  </thead>\n",
              "  <tbody>\n",
              "    <tr>\n",
              "      <th>2134</th>\n",
              "      <td>World</td>\n",
              "      <td>Palestinian Authority cuts all ties with Israe...</td>\n",
              "      <td>President Abbas says he refused to discuss Tru...</td>\n",
              "      <td>02 Feb, 2020 09:41am</td>\n",
              "    </tr>\n",
              "    <tr>\n",
              "      <th>2135</th>\n",
              "      <td>Pakistan</td>\n",
              "      <td>4 young boys who trespassed on Hindu temple in...</td>\n",
              "      <td>Suspects released as complainant withdraws cha...</td>\n",
              "      <td>01 Feb, 2020 09:54pm</td>\n",
              "    </tr>\n",
              "    <tr>\n",
              "      <th>2136</th>\n",
              "      <td>Pakistan</td>\n",
              "      <td>Pemra slaps Rs1 million fine on Channel 92 for...</td>\n",
              "      <td>Bukhari says he was portrayed as a traitor in ...</td>\n",
              "      <td>01 Feb, 2020 10:40pm</td>\n",
              "    </tr>\n",
              "    <tr>\n",
              "      <th>2137</th>\n",
              "      <td>World</td>\n",
              "      <td>Suspected Hindu radical fires at protesters in...</td>\n",
              "      <td>Police say that they have taken the shooter in...</td>\n",
              "      <td>01 Feb, 2020 09:04pm</td>\n",
              "    </tr>\n",
              "    <tr>\n",
              "      <th>2138</th>\n",
              "      <td>Tech</td>\n",
              "      <td>Apple takes smartphone sales crown from Samsung</td>\n",
              "      <td>Apple is recovering due to cheaper iPhone 11 p...</td>\n",
              "      <td>01 Feb, 2020 06:25pm</td>\n",
              "    </tr>\n",
              "    <tr>\n",
              "      <th>...</th>\n",
              "      <td>...</td>\n",
              "      <td>...</td>\n",
              "      <td>...</td>\n",
              "      <td>...</td>\n",
              "    </tr>\n",
              "    <tr>\n",
              "      <th>26701</th>\n",
              "      <td>Newspaper</td>\n",
              "      <td>Pakistan welcomes renewed US push for Afghan p...</td>\n",
              "      <td>“We welcome the US efforts to re-energise the ...</td>\n",
              "      <td>11 Mar, 2021 07:02am</td>\n",
              "    </tr>\n",
              "    <tr>\n",
              "      <th>26702</th>\n",
              "      <td>Newspaper</td>\n",
              "      <td>Myanmar junta spurns UN appeal,  kills more pr...</td>\n",
              "      <td>The military has also lodged a new allegation ...</td>\n",
              "      <td>11 Mar, 2021 07:02am</td>\n",
              "    </tr>\n",
              "    <tr>\n",
              "      <th>26703</th>\n",
              "      <td>Newspaper</td>\n",
              "      <td>Remittances jump by 24pc to $18.7bn in 8MFY21</td>\n",
              "      <td>If June FY20 is also counted, it is the ninth ...</td>\n",
              "      <td>11 Mar, 2021 07:02am</td>\n",
              "    </tr>\n",
              "    <tr>\n",
              "      <th>26704</th>\n",
              "      <td>Pakistan</td>\n",
              "      <td>Pakistan blocks TikTok after ban by PHC</td>\n",
              "      <td>Company running app say it is maintaining a sa...</td>\n",
              "      <td>11 Mar, 2021 07:02am</td>\n",
              "    </tr>\n",
              "    <tr>\n",
              "      <th>26705</th>\n",
              "      <td>Newspaper</td>\n",
              "      <td>Govt gets cleared Nepra bill to revive IMF pro...</td>\n",
              "      <td>Under the bill, the govt has secured powers to...</td>\n",
              "      <td>11 Mar, 2021 07:02am</td>\n",
              "    </tr>\n",
              "  </tbody>\n",
              "</table>\n",
              "<p>24330 rows × 4 columns</p>\n",
              "</div>"
            ],
            "text/plain": [
              "      Story Heading                                      Story Excerpt  \\\n",
              "2134          World  Palestinian Authority cuts all ties with Israe...   \n",
              "2135       Pakistan  4 young boys who trespassed on Hindu temple in...   \n",
              "2136       Pakistan  Pemra slaps Rs1 million fine on Channel 92 for...   \n",
              "2137          World  Suspected Hindu radical fires at protesters in...   \n",
              "2138           Tech    Apple takes smartphone sales crown from Samsung   \n",
              "...             ...                                                ...   \n",
              "26701     Newspaper  Pakistan welcomes renewed US push for Afghan p...   \n",
              "26702     Newspaper  Myanmar junta spurns UN appeal,  kills more pr...   \n",
              "26703     Newspaper      Remittances jump by 24pc to $18.7bn in 8MFY21   \n",
              "26704      Pakistan            Pakistan blocks TikTok after ban by PHC   \n",
              "26705     Newspaper  Govt gets cleared Nepra bill to revive IMF pro...   \n",
              "\n",
              "                                               Timestamp               Section  \n",
              "2134   President Abbas says he refused to discuss Tru...  02 Feb, 2020 09:41am  \n",
              "2135   Suspects released as complainant withdraws cha...  01 Feb, 2020 09:54pm  \n",
              "2136   Bukhari says he was portrayed as a traitor in ...  01 Feb, 2020 10:40pm  \n",
              "2137   Police say that they have taken the shooter in...  01 Feb, 2020 09:04pm  \n",
              "2138   Apple is recovering due to cheaper iPhone 11 p...  01 Feb, 2020 06:25pm  \n",
              "...                                                  ...                   ...  \n",
              "26701  “We welcome the US efforts to re-energise the ...  11 Mar, 2021 07:02am  \n",
              "26702  The military has also lodged a new allegation ...  11 Mar, 2021 07:02am  \n",
              "26703  If June FY20 is also counted, it is the ninth ...  11 Mar, 2021 07:02am  \n",
              "26704  Company running app say it is maintaining a sa...  11 Mar, 2021 07:02am  \n",
              "26705  Under the bill, the govt has secured powers to...  11 Mar, 2021 07:02am  \n",
              "\n",
              "[24330 rows x 4 columns]"
            ]
          },
          "execution_count": 14,
          "metadata": {},
          "output_type": "execute_result"
        }
      ],
      "source": [
        "data_27kN4=data_27kN2[(data_27kN2['Story Heading']=='Pakistan')|(data_27kN2['Story Heading']=='Sport')\n",
        "                      | (data_27kN2['Story Heading']=='World')|(data_27kN2['Story Heading']=='Business')\n",
        "                      | (data_27kN2['Story Heading']=='Sp Supplements')|(data_27kN2['Story Heading']=='Newspaper')\n",
        "                      | (data_27kN2['Story Heading']=='Magazines')|(data_27kN2['Story Heading']=='Sport')\n",
        "                      | (data_27kN2['Story Heading']=='Prism')|(data_27kN2['Story Heading']=='Tech')\n",
        "                      | (data_27kN2['Story Heading']=='Multimedia') | (data_27kN2['Story Heading']=='Coronavirus')\n",
        "                      | (data_27kN2['Story Heading']=='US Elections')]\n",
        "data_27kN4"
      ]
    },
    {
      "cell_type": "code",
      "execution_count": null,
      "id": "72cdfd20",
      "metadata": {
        "execution": {
          "iopub.execute_input": "2021-11-13T11:18:35.886491Z",
          "iopub.status.busy": "2021-11-13T11:18:35.885474Z",
          "iopub.status.idle": "2021-11-13T11:18:35.896960Z",
          "shell.execute_reply": "2021-11-13T11:18:35.897498Z",
          "shell.execute_reply.started": "2021-11-13T10:52:26.596312Z"
        },
        "papermill": {
          "duration": 0.041869,
          "end_time": "2021-11-13T11:18:35.897676",
          "exception": false,
          "start_time": "2021-11-13T11:18:35.855807",
          "status": "completed"
        },
        "tags": [],
        "id": "72cdfd20",
        "outputId": "24ccf3ea-93fc-4aa1-a0da-fc9b497c1cca"
      },
      "outputs": [
        {
          "name": "stderr",
          "output_type": "stream",
          "text": [
            "/opt/conda/lib/python3.7/site-packages/pandas/core/frame.py:5047: SettingWithCopyWarning: \n",
            "A value is trying to be set on a copy of a slice from a DataFrame\n",
            "\n",
            "See the caveats in the documentation: https://pandas.pydata.org/pandas-docs/stable/user_guide/indexing.html#returning-a-view-versus-a-copy\n",
            "  errors=errors,\n"
          ]
        }
      ],
      "source": [
        "data_27kN4.rename(columns={'Story Heading':'Section',\n",
        "                           'Story Excerpt':'Story Heading',\n",
        "                           'Timestamp':'Story Excerpt',\n",
        "                           'Section':'Timestamp'},inplace=True)"
      ]
    },
    {
      "cell_type": "code",
      "execution_count": null,
      "id": "10492929",
      "metadata": {
        "execution": {
          "iopub.execute_input": "2021-11-13T11:18:35.955698Z",
          "iopub.status.busy": "2021-11-13T11:18:35.954301Z",
          "iopub.status.idle": "2021-11-13T11:18:35.968080Z",
          "shell.execute_reply": "2021-11-13T11:18:35.968870Z",
          "shell.execute_reply.started": "2021-11-13T10:52:29.300331Z"
        },
        "papermill": {
          "duration": 0.045236,
          "end_time": "2021-11-13T11:18:35.969076",
          "exception": false,
          "start_time": "2021-11-13T11:18:35.923840",
          "status": "completed"
        },
        "tags": [],
        "id": "10492929",
        "outputId": "ee66aba6-a876-4ae9-8275-6f83e2aa4b3b"
      },
      "outputs": [
        {
          "data": {
            "text/html": [
              "<div>\n",
              "<style scoped>\n",
              "    .dataframe tbody tr th:only-of-type {\n",
              "        vertical-align: middle;\n",
              "    }\n",
              "\n",
              "    .dataframe tbody tr th {\n",
              "        vertical-align: top;\n",
              "    }\n",
              "\n",
              "    .dataframe thead th {\n",
              "        text-align: right;\n",
              "    }\n",
              "</style>\n",
              "<table border=\"1\" class=\"dataframe\">\n",
              "  <thead>\n",
              "    <tr style=\"text-align: right;\">\n",
              "      <th></th>\n",
              "      <th>Section</th>\n",
              "      <th>Story Heading</th>\n",
              "      <th>Story Excerpt</th>\n",
              "      <th>Timestamp</th>\n",
              "    </tr>\n",
              "  </thead>\n",
              "  <tbody>\n",
              "    <tr>\n",
              "      <th>2134</th>\n",
              "      <td>World</td>\n",
              "      <td>Palestinian Authority cuts all ties with Israe...</td>\n",
              "      <td>President Abbas says he refused to discuss Tru...</td>\n",
              "      <td>02 Feb, 2020 09:41am</td>\n",
              "    </tr>\n",
              "    <tr>\n",
              "      <th>2135</th>\n",
              "      <td>Pakistan</td>\n",
              "      <td>4 young boys who trespassed on Hindu temple in...</td>\n",
              "      <td>Suspects released as complainant withdraws cha...</td>\n",
              "      <td>01 Feb, 2020 09:54pm</td>\n",
              "    </tr>\n",
              "    <tr>\n",
              "      <th>2136</th>\n",
              "      <td>Pakistan</td>\n",
              "      <td>Pemra slaps Rs1 million fine on Channel 92 for...</td>\n",
              "      <td>Bukhari says he was portrayed as a traitor in ...</td>\n",
              "      <td>01 Feb, 2020 10:40pm</td>\n",
              "    </tr>\n",
              "    <tr>\n",
              "      <th>2137</th>\n",
              "      <td>World</td>\n",
              "      <td>Suspected Hindu radical fires at protesters in...</td>\n",
              "      <td>Police say that they have taken the shooter in...</td>\n",
              "      <td>01 Feb, 2020 09:04pm</td>\n",
              "    </tr>\n",
              "    <tr>\n",
              "      <th>2138</th>\n",
              "      <td>Tech</td>\n",
              "      <td>Apple takes smartphone sales crown from Samsung</td>\n",
              "      <td>Apple is recovering due to cheaper iPhone 11 p...</td>\n",
              "      <td>01 Feb, 2020 06:25pm</td>\n",
              "    </tr>\n",
              "    <tr>\n",
              "      <th>...</th>\n",
              "      <td>...</td>\n",
              "      <td>...</td>\n",
              "      <td>...</td>\n",
              "      <td>...</td>\n",
              "    </tr>\n",
              "    <tr>\n",
              "      <th>26701</th>\n",
              "      <td>Newspaper</td>\n",
              "      <td>Pakistan welcomes renewed US push for Afghan p...</td>\n",
              "      <td>“We welcome the US efforts to re-energise the ...</td>\n",
              "      <td>11 Mar, 2021 07:02am</td>\n",
              "    </tr>\n",
              "    <tr>\n",
              "      <th>26702</th>\n",
              "      <td>Newspaper</td>\n",
              "      <td>Myanmar junta spurns UN appeal,  kills more pr...</td>\n",
              "      <td>The military has also lodged a new allegation ...</td>\n",
              "      <td>11 Mar, 2021 07:02am</td>\n",
              "    </tr>\n",
              "    <tr>\n",
              "      <th>26703</th>\n",
              "      <td>Newspaper</td>\n",
              "      <td>Remittances jump by 24pc to $18.7bn in 8MFY21</td>\n",
              "      <td>If June FY20 is also counted, it is the ninth ...</td>\n",
              "      <td>11 Mar, 2021 07:02am</td>\n",
              "    </tr>\n",
              "    <tr>\n",
              "      <th>26704</th>\n",
              "      <td>Pakistan</td>\n",
              "      <td>Pakistan blocks TikTok after ban by PHC</td>\n",
              "      <td>Company running app say it is maintaining a sa...</td>\n",
              "      <td>11 Mar, 2021 07:02am</td>\n",
              "    </tr>\n",
              "    <tr>\n",
              "      <th>26705</th>\n",
              "      <td>Newspaper</td>\n",
              "      <td>Govt gets cleared Nepra bill to revive IMF pro...</td>\n",
              "      <td>Under the bill, the govt has secured powers to...</td>\n",
              "      <td>11 Mar, 2021 07:02am</td>\n",
              "    </tr>\n",
              "  </tbody>\n",
              "</table>\n",
              "<p>24330 rows × 4 columns</p>\n",
              "</div>"
            ],
            "text/plain": [
              "         Section                                      Story Heading  \\\n",
              "2134       World  Palestinian Authority cuts all ties with Israe...   \n",
              "2135    Pakistan  4 young boys who trespassed on Hindu temple in...   \n",
              "2136    Pakistan  Pemra slaps Rs1 million fine on Channel 92 for...   \n",
              "2137       World  Suspected Hindu radical fires at protesters in...   \n",
              "2138        Tech    Apple takes smartphone sales crown from Samsung   \n",
              "...          ...                                                ...   \n",
              "26701  Newspaper  Pakistan welcomes renewed US push for Afghan p...   \n",
              "26702  Newspaper  Myanmar junta spurns UN appeal,  kills more pr...   \n",
              "26703  Newspaper      Remittances jump by 24pc to $18.7bn in 8MFY21   \n",
              "26704   Pakistan            Pakistan blocks TikTok after ban by PHC   \n",
              "26705  Newspaper  Govt gets cleared Nepra bill to revive IMF pro...   \n",
              "\n",
              "                                           Story Excerpt             Timestamp  \n",
              "2134   President Abbas says he refused to discuss Tru...  02 Feb, 2020 09:41am  \n",
              "2135   Suspects released as complainant withdraws cha...  01 Feb, 2020 09:54pm  \n",
              "2136   Bukhari says he was portrayed as a traitor in ...  01 Feb, 2020 10:40pm  \n",
              "2137   Police say that they have taken the shooter in...  01 Feb, 2020 09:04pm  \n",
              "2138   Apple is recovering due to cheaper iPhone 11 p...  01 Feb, 2020 06:25pm  \n",
              "...                                                  ...                   ...  \n",
              "26701  “We welcome the US efforts to re-energise the ...  11 Mar, 2021 07:02am  \n",
              "26702  The military has also lodged a new allegation ...  11 Mar, 2021 07:02am  \n",
              "26703  If June FY20 is also counted, it is the ninth ...  11 Mar, 2021 07:02am  \n",
              "26704  Company running app say it is maintaining a sa...  11 Mar, 2021 07:02am  \n",
              "26705  Under the bill, the govt has secured powers to...  11 Mar, 2021 07:02am  \n",
              "\n",
              "[24330 rows x 4 columns]"
            ]
          },
          "execution_count": 16,
          "metadata": {},
          "output_type": "execute_result"
        }
      ],
      "source": [
        "data_27kN4"
      ]
    },
    {
      "cell_type": "code",
      "execution_count": null,
      "id": "f0dccc1f",
      "metadata": {
        "execution": {
          "iopub.execute_input": "2021-11-13T11:18:36.028898Z",
          "iopub.status.busy": "2021-11-13T11:18:36.027932Z",
          "iopub.status.idle": "2021-11-13T11:18:36.036676Z",
          "shell.execute_reply": "2021-11-13T11:18:36.037162Z",
          "shell.execute_reply.started": "2021-11-13T10:59:09.83223Z"
        },
        "papermill": {
          "duration": 0.040207,
          "end_time": "2021-11-13T11:18:36.037373",
          "exception": false,
          "start_time": "2021-11-13T11:18:35.997166",
          "status": "completed"
        },
        "tags": [],
        "id": "f0dccc1f"
      },
      "outputs": [],
      "source": [
        "data_27kNF=pd.concat([data_27kN3 , data_27kN4],ignore_index=True)"
      ]
    },
    {
      "cell_type": "code",
      "execution_count": null,
      "id": "067b5012",
      "metadata": {
        "execution": {
          "iopub.execute_input": "2021-11-13T11:18:36.097101Z",
          "iopub.status.busy": "2021-11-13T11:18:36.096129Z",
          "iopub.status.idle": "2021-11-13T11:18:36.147774Z",
          "shell.execute_reply": "2021-11-13T11:18:36.147209Z",
          "shell.execute_reply.started": "2021-11-13T10:59:41.90458Z"
        },
        "papermill": {
          "duration": 0.082216,
          "end_time": "2021-11-13T11:18:36.147927",
          "exception": false,
          "start_time": "2021-11-13T11:18:36.065711",
          "status": "completed"
        },
        "tags": [],
        "id": "067b5012",
        "outputId": "605a0d1b-b6f6-4ff4-f4cf-042352c0e505"
      },
      "outputs": [
        {
          "data": {
            "text/html": [
              "<div>\n",
              "<style scoped>\n",
              "    .dataframe tbody tr th:only-of-type {\n",
              "        vertical-align: middle;\n",
              "    }\n",
              "\n",
              "    .dataframe tbody tr th {\n",
              "        vertical-align: top;\n",
              "    }\n",
              "\n",
              "    .dataframe thead th {\n",
              "        text-align: right;\n",
              "    }\n",
              "</style>\n",
              "<table border=\"1\" class=\"dataframe\">\n",
              "  <thead>\n",
              "    <tr style=\"text-align: right;\">\n",
              "      <th></th>\n",
              "      <th>Story Heading</th>\n",
              "      <th>Story Excerpt</th>\n",
              "      <th>Timestamp</th>\n",
              "      <th>Section</th>\n",
              "    </tr>\n",
              "  </thead>\n",
              "  <tbody>\n",
              "    <tr>\n",
              "      <th>0</th>\n",
              "      <td>Chinese national held for beating traffic poli...</td>\n",
              "      <td>The suspect assaulted the constable after he p...</td>\n",
              "      <td>01 Jan, 2020 08:35pm</td>\n",
              "      <td>Pakistan</td>\n",
              "    </tr>\n",
              "    <tr>\n",
              "      <th>1</th>\n",
              "      <td>Iraqi paramilitaries call for withdrawal from ...</td>\n",
              "      <td>Overnight, demonstrators pitched tents and cam...</td>\n",
              "      <td>01 Jan, 2020 07:26pm</td>\n",
              "      <td>World</td>\n",
              "    </tr>\n",
              "    <tr>\n",
              "      <th>2</th>\n",
              "      <td>Sarmad Khoosat reveals why Zindagi Tamasha's t...</td>\n",
              "      <td>We also have a release date.</td>\n",
              "      <td>02 Jan, 2020 01:17pm</td>\n",
              "      <td>Pakistan</td>\n",
              "    </tr>\n",
              "    <tr>\n",
              "      <th>3</th>\n",
              "      <td>PSL 2020 set to begin on February 20</td>\n",
              "      <td>Of the total 34 matches, 14 will take place in...</td>\n",
              "      <td>02 Jan, 2020 10:56am</td>\n",
              "      <td>Sport</td>\n",
              "    </tr>\n",
              "    <tr>\n",
              "      <th>4</th>\n",
              "      <td>Despite extreme differences, Centre willing to...</td>\n",
              "      <td>Says meeting on Centre's projects in Karachi f...</td>\n",
              "      <td>01 Jan, 2020 03:27pm</td>\n",
              "      <td>Pakistan</td>\n",
              "    </tr>\n",
              "    <tr>\n",
              "      <th>...</th>\n",
              "      <td>...</td>\n",
              "      <td>...</td>\n",
              "      <td>...</td>\n",
              "      <td>...</td>\n",
              "    </tr>\n",
              "    <tr>\n",
              "      <th>26405</th>\n",
              "      <td>Pakistan welcomes renewed US push for Afghan p...</td>\n",
              "      <td>“We welcome the US efforts to re-energise the ...</td>\n",
              "      <td>11 Mar, 2021 07:02am</td>\n",
              "      <td>Newspaper</td>\n",
              "    </tr>\n",
              "    <tr>\n",
              "      <th>26406</th>\n",
              "      <td>Myanmar junta spurns UN appeal,  kills more pr...</td>\n",
              "      <td>The military has also lodged a new allegation ...</td>\n",
              "      <td>11 Mar, 2021 07:02am</td>\n",
              "      <td>Newspaper</td>\n",
              "    </tr>\n",
              "    <tr>\n",
              "      <th>26407</th>\n",
              "      <td>Remittances jump by 24pc to $18.7bn in 8MFY21</td>\n",
              "      <td>If June FY20 is also counted, it is the ninth ...</td>\n",
              "      <td>11 Mar, 2021 07:02am</td>\n",
              "      <td>Newspaper</td>\n",
              "    </tr>\n",
              "    <tr>\n",
              "      <th>26408</th>\n",
              "      <td>Pakistan blocks TikTok after ban by PHC</td>\n",
              "      <td>Company running app say it is maintaining a sa...</td>\n",
              "      <td>11 Mar, 2021 07:02am</td>\n",
              "      <td>Pakistan</td>\n",
              "    </tr>\n",
              "    <tr>\n",
              "      <th>26409</th>\n",
              "      <td>Govt gets cleared Nepra bill to revive IMF pro...</td>\n",
              "      <td>Under the bill, the govt has secured powers to...</td>\n",
              "      <td>11 Mar, 2021 07:02am</td>\n",
              "      <td>Newspaper</td>\n",
              "    </tr>\n",
              "  </tbody>\n",
              "</table>\n",
              "<p>26410 rows × 4 columns</p>\n",
              "</div>"
            ],
            "text/plain": [
              "                                           Story Heading  \\\n",
              "0      Chinese national held for beating traffic poli...   \n",
              "1      Iraqi paramilitaries call for withdrawal from ...   \n",
              "2      Sarmad Khoosat reveals why Zindagi Tamasha's t...   \n",
              "3                   PSL 2020 set to begin on February 20   \n",
              "4      Despite extreme differences, Centre willing to...   \n",
              "...                                                  ...   \n",
              "26405  Pakistan welcomes renewed US push for Afghan p...   \n",
              "26406  Myanmar junta spurns UN appeal,  kills more pr...   \n",
              "26407      Remittances jump by 24pc to $18.7bn in 8MFY21   \n",
              "26408            Pakistan blocks TikTok after ban by PHC   \n",
              "26409  Govt gets cleared Nepra bill to revive IMF pro...   \n",
              "\n",
              "                                           Story Excerpt  \\\n",
              "0      The suspect assaulted the constable after he p...   \n",
              "1      Overnight, demonstrators pitched tents and cam...   \n",
              "2                           We also have a release date.   \n",
              "3      Of the total 34 matches, 14 will take place in...   \n",
              "4      Says meeting on Centre's projects in Karachi f...   \n",
              "...                                                  ...   \n",
              "26405  “We welcome the US efforts to re-energise the ...   \n",
              "26406  The military has also lodged a new allegation ...   \n",
              "26407  If June FY20 is also counted, it is the ninth ...   \n",
              "26408  Company running app say it is maintaining a sa...   \n",
              "26409  Under the bill, the govt has secured powers to...   \n",
              "\n",
              "                  Timestamp    Section  \n",
              "0      01 Jan, 2020 08:35pm   Pakistan  \n",
              "1      01 Jan, 2020 07:26pm      World  \n",
              "2      02 Jan, 2020 01:17pm   Pakistan  \n",
              "3      02 Jan, 2020 10:56am      Sport  \n",
              "4      01 Jan, 2020 03:27pm   Pakistan  \n",
              "...                     ...        ...  \n",
              "26405  11 Mar, 2021 07:02am  Newspaper  \n",
              "26406  11 Mar, 2021 07:02am  Newspaper  \n",
              "26407  11 Mar, 2021 07:02am  Newspaper  \n",
              "26408  11 Mar, 2021 07:02am   Pakistan  \n",
              "26409  11 Mar, 2021 07:02am  Newspaper  \n",
              "\n",
              "[26410 rows x 4 columns]"
            ]
          },
          "execution_count": 18,
          "metadata": {},
          "output_type": "execute_result"
        }
      ],
      "source": [
        "data_27kNF.drop_duplicates(keep=False)\n",
        "data_27kNF"
      ]
    },
    {
      "cell_type": "code",
      "execution_count": null,
      "id": "093925d1",
      "metadata": {
        "execution": {
          "iopub.execute_input": "2021-11-13T11:18:36.207063Z",
          "iopub.status.busy": "2021-11-13T11:18:36.205268Z",
          "iopub.status.idle": "2021-11-13T11:18:36.214228Z",
          "shell.execute_reply": "2021-11-13T11:18:36.214940Z",
          "shell.execute_reply.started": "2021-11-13T10:59:52.257842Z"
        },
        "papermill": {
          "duration": 0.040218,
          "end_time": "2021-11-13T11:18:36.215144",
          "exception": false,
          "start_time": "2021-11-13T11:18:36.174926",
          "status": "completed"
        },
        "tags": [],
        "id": "093925d1",
        "outputId": "77122b78-f8c9-4542-84cc-4203b26cc7e5"
      },
      "outputs": [
        {
          "name": "stdout",
          "output_type": "stream",
          "text": [
            "(26413, 4)\n",
            "(2080, 4)\n",
            "(24330, 4)\n",
            "(26410, 4)\n"
          ]
        }
      ],
      "source": [
        "print(data_27kN2.shape)#dataframe without NA values\n",
        "print(data_27kN3.shape)#dataframe with value based columns(correct format)   \n",
        "print(data_27kN4.shape)#dataframe without value based columns(incorrect formate)\n",
        "print(data_27kNF.shape)#No Duplication"
      ]
    },
    {
      "cell_type": "code",
      "execution_count": null,
      "id": "0ee60788",
      "metadata": {
        "execution": {
          "iopub.execute_input": "2021-11-13T11:18:36.275773Z",
          "iopub.status.busy": "2021-11-13T11:18:36.274570Z",
          "iopub.status.idle": "2021-11-13T11:18:36.291143Z",
          "shell.execute_reply": "2021-11-13T11:18:36.291740Z",
          "shell.execute_reply.started": "2021-11-13T11:00:32.265659Z"
        },
        "papermill": {
          "duration": 0.049057,
          "end_time": "2021-11-13T11:18:36.291939",
          "exception": false,
          "start_time": "2021-11-13T11:18:36.242882",
          "status": "completed"
        },
        "tags": [],
        "id": "0ee60788",
        "outputId": "dd9fc392-9b3a-44de-cec2-50a1e95b4734"
      },
      "outputs": [
        {
          "data": {
            "text/html": [
              "<div>\n",
              "<style scoped>\n",
              "    .dataframe tbody tr th:only-of-type {\n",
              "        vertical-align: middle;\n",
              "    }\n",
              "\n",
              "    .dataframe tbody tr th {\n",
              "        vertical-align: top;\n",
              "    }\n",
              "\n",
              "    .dataframe thead th {\n",
              "        text-align: right;\n",
              "    }\n",
              "</style>\n",
              "<table border=\"1\" class=\"dataframe\">\n",
              "  <thead>\n",
              "    <tr style=\"text-align: right;\">\n",
              "      <th></th>\n",
              "      <th>Section</th>\n",
              "      <th>Count</th>\n",
              "    </tr>\n",
              "  </thead>\n",
              "  <tbody>\n",
              "    <tr>\n",
              "      <th>0</th>\n",
              "      <td>Pakistan</td>\n",
              "      <td>12893</td>\n",
              "    </tr>\n",
              "    <tr>\n",
              "      <th>1</th>\n",
              "      <td>Newspaper</td>\n",
              "      <td>9103</td>\n",
              "    </tr>\n",
              "    <tr>\n",
              "      <th>2</th>\n",
              "      <td>World</td>\n",
              "      <td>3505</td>\n",
              "    </tr>\n",
              "    <tr>\n",
              "      <th>3</th>\n",
              "      <td>Business</td>\n",
              "      <td>364</td>\n",
              "    </tr>\n",
              "    <tr>\n",
              "      <th>4</th>\n",
              "      <td>Sport</td>\n",
              "      <td>362</td>\n",
              "    </tr>\n",
              "    <tr>\n",
              "      <th>5</th>\n",
              "      <td>Prism</td>\n",
              "      <td>50</td>\n",
              "    </tr>\n",
              "    <tr>\n",
              "      <th>6</th>\n",
              "      <td>Tech</td>\n",
              "      <td>50</td>\n",
              "    </tr>\n",
              "    <tr>\n",
              "      <th>7</th>\n",
              "      <td>Sp Supplements</td>\n",
              "      <td>43</td>\n",
              "    </tr>\n",
              "    <tr>\n",
              "      <th>8</th>\n",
              "      <td>Coronavirus</td>\n",
              "      <td>20</td>\n",
              "    </tr>\n",
              "    <tr>\n",
              "      <th>9</th>\n",
              "      <td>US Elections</td>\n",
              "      <td>17</td>\n",
              "    </tr>\n",
              "    <tr>\n",
              "      <th>10</th>\n",
              "      <td>Multimedia</td>\n",
              "      <td>2</td>\n",
              "    </tr>\n",
              "    <tr>\n",
              "      <th>11</th>\n",
              "      <td>Magazines</td>\n",
              "      <td>1</td>\n",
              "    </tr>\n",
              "  </tbody>\n",
              "</table>\n",
              "</div>"
            ],
            "text/plain": [
              "           Section  Count\n",
              "0         Pakistan  12893\n",
              "1        Newspaper   9103\n",
              "2            World   3505\n",
              "3         Business    364\n",
              "4            Sport    362\n",
              "5            Prism     50\n",
              "6             Tech     50\n",
              "7   Sp Supplements     43\n",
              "8      Coronavirus     20\n",
              "9     US Elections     17\n",
              "10      Multimedia      2\n",
              "11       Magazines      1"
            ]
          },
          "execution_count": 20,
          "metadata": {},
          "output_type": "execute_result"
        }
      ],
      "source": [
        "subs=data_27kNF['Section']\n",
        "subs=pd.DataFrame(subs)\n",
        "subs=subs.value_counts().rename_axis('Section').reset_index(name='Count')\n",
        "subs"
      ]
    },
    {
      "cell_type": "code",
      "execution_count": null,
      "id": "f120e158",
      "metadata": {
        "execution": {
          "iopub.execute_input": "2021-11-13T11:18:36.353607Z",
          "iopub.status.busy": "2021-11-13T11:18:36.352843Z",
          "iopub.status.idle": "2021-11-13T11:18:36.360712Z",
          "shell.execute_reply": "2021-11-13T11:18:36.361263Z",
          "shell.execute_reply.started": "2021-11-13T11:00:40.402415Z"
        },
        "papermill": {
          "duration": 0.039243,
          "end_time": "2021-11-13T11:18:36.361491",
          "exception": false,
          "start_time": "2021-11-13T11:18:36.322248",
          "status": "completed"
        },
        "tags": [],
        "id": "f120e158",
        "outputId": "86d0aecc-7d4b-4aa6-abe6-e1d1cb2d70f2"
      },
      "outputs": [
        {
          "data": {
            "text/plain": [
              "['Pakistan',\n",
              " 'World',\n",
              " 'Sport',\n",
              " 'Business',\n",
              " 'Sp Supplements',\n",
              " 'Newspaper',\n",
              " 'Prism',\n",
              " 'Tech',\n",
              " 'Multimedia',\n",
              " 'Coronavirus',\n",
              " 'Magazines',\n",
              " 'US Elections']"
            ]
          },
          "execution_count": 21,
          "metadata": {},
          "output_type": "execute_result"
        }
      ],
      "source": [
        "names = list(data_27kNF['Section'].unique())\n",
        "names"
      ]
    },
    {
      "cell_type": "code",
      "execution_count": null,
      "id": "5dc985cf",
      "metadata": {
        "execution": {
          "iopub.execute_input": "2021-11-13T11:18:36.425047Z",
          "iopub.status.busy": "2021-11-13T11:18:36.424118Z",
          "iopub.status.idle": "2021-11-13T11:18:36.902110Z",
          "shell.execute_reply": "2021-11-13T11:18:36.902665Z",
          "shell.execute_reply.started": "2021-11-13T11:13:41.548742Z"
        },
        "papermill": {
          "duration": 0.510812,
          "end_time": "2021-11-13T11:18:36.902850",
          "exception": false,
          "start_time": "2021-11-13T11:18:36.392038",
          "status": "completed"
        },
        "tags": [],
        "id": "5dc985cf",
        "outputId": "712fe132-3d2d-4bf4-969e-3e593b50e65c"
      },
      "outputs": [
        {
          "data": {
            "text/plain": [
              "<function matplotlib.pyplot.show(close=None, block=None)>"
            ]
          },
          "execution_count": 22,
          "metadata": {},
          "output_type": "execute_result"
        },
        {
          "data": {
            "image/png": "[encoded data removed]",
            "text/plain": [
              "<Figure size 720x1080 with 1 Axes>"
            ]
          },
          "metadata": {
            "needs_background": "light"
          },
          "output_type": "display_data"
        }
      ],
      "source": [
        "plt.figure(figsize=(10,15))\n",
        "#graph = sns.barplot(x='Section', y='Count', data=subs)\n",
        "x=subs['Section']\n",
        "y=subs['Count']\n",
        "plt.barh(x,y)\n",
        "for index, value in enumerate(y):\n",
        "    plt.text(value, index,\n",
        "             str(value))\n",
        "plt.show"
      ]
    },
    {
      "cell_type": "code",
      "execution_count": null,
      "id": "fa53d743",
      "metadata": {
        "execution": {
          "iopub.execute_input": "2021-11-13T11:18:36.969401Z",
          "iopub.status.busy": "2021-11-13T11:18:36.968379Z",
          "iopub.status.idle": "2021-11-13T11:18:37.561252Z",
          "shell.execute_reply": "2021-11-13T11:18:37.560727Z",
          "shell.execute_reply.started": "2021-11-13T11:05:25.612957Z"
        },
        "papermill": {
          "duration": 0.626342,
          "end_time": "2021-11-13T11:18:37.561419",
          "exception": false,
          "start_time": "2021-11-13T11:18:36.935077",
          "status": "completed"
        },
        "tags": [],
        "id": "fa53d743",
        "outputId": "15d431b9-2f14-4d89-c5fb-c3e371fe52bd"
      },
      "outputs": [
        {
          "data": {
            "image/png": "[encoded data removed]",
            "text/plain": [
              "<Figure size 720x1080 with 1 Axes>"
            ]
          },
          "metadata": {},
          "output_type": "display_data"
        }
      ],
      "source": [
        "plt.figure(figsize=(10, 15))\n",
        "\n",
        "colors = ['grey', '#ff9c52', 'red', '#e6859f', '#e69585', '#c1d685', '#87e685', '#e685dc', '#edabac', '#c8e8e5']\n",
        "plt.pie(y, labels=x,colors=colors,autopct='%1.1f%%',shadow=True,startangle=90)\n",
        "plt.legend()\n",
        "plt.show()"
      ]
    },
    {
      "cell_type": "code",
      "execution_count": null,
      "id": "c7300433",
      "metadata": {
        "papermill": {
          "duration": 0.035431,
          "end_time": "2021-11-13T11:18:37.630476",
          "exception": false,
          "start_time": "2021-11-13T11:18:37.595045",
          "status": "completed"
        },
        "tags": [],
        "id": "c7300433"
      },
      "outputs": [],
      "source": [
        ""
      ]
    }
  ],
  "metadata": {
    "kernelspec": {
      "display_name": "Python 3",
      "language": "python",
      "name": "python3"
    },
    "language_info": {
      "codemirror_mode": {
        "name": "ipython",
        "version": 3
      },
      "file_extension": ".py",
      "mimetype": "text/x-python",
      "name": "python",
      "nbconvert_exporter": "python",
      "pygments_lexer": "ipython3",
      "version": "3.7.10"
    },
    "papermill": {
      "default_parameters": {},
      "duration": 15.42397,
      "end_time": "2021-11-13T11:18:38.377039",
      "environment_variables": {},
      "exception": null,
      "input_path": "__notebook__.ipynb",
      "output_path": "__notebook__.ipynb",
      "parameters": {},
      "start_time": "2021-11-13T11:18:22.953069",
      "version": "2.3.3"
    },
    "colab": {
      "name": "PakistanNewsHeadlines.ipynb",
      "provenance": [],
      "collapsed_sections": []
    }
  },
  "nbformat": 4,
  "nbformat_minor": 5
}